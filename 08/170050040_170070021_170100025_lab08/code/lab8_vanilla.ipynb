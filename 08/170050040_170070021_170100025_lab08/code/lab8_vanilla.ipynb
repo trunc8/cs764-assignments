{
 "cells": [
  {
   "cell_type": "code",
   "execution_count": 1,
   "metadata": {},
   "outputs": [
    {
     "name": "stdout",
     "output_type": "stream",
     "text": [
      "Sun Apr 18 19:04:15 2021       \n",
      "+-----------------------------------------------------------------------------+\n",
      "| NVIDIA-SMI 455.45.01    Driver Version: 455.45.01    CUDA Version: 11.1     |\n",
      "|-------------------------------+----------------------+----------------------+\n",
      "| GPU  Name        Persistence-M| Bus-Id        Disp.A | Volatile Uncorr. ECC |\n",
      "| Fan  Temp  Perf  Pwr:Usage/Cap|         Memory-Usage | GPU-Util  Compute M. |\n",
      "|                               |                      |               MIG M. |\n",
      "|===============================+======================+======================|\n",
      "|   0  TITAN RTX           On   | 00000000:03:00.0 Off |                  N/A |\n",
      "| 41%   47C    P2    65W / 280W |  16975MiB / 24220MiB |      0%      Default |\n",
      "|                               |                      |                  N/A |\n",
      "+-------------------------------+----------------------+----------------------+\n",
      "|   1  TITAN Xp            On   | 00000000:81:00.0 Off |                  N/A |\n",
      "| 23%   25C    P8     9W / 250W |    717MiB / 12196MiB |      0%      Default |\n",
      "|                               |                      |                  N/A |\n",
      "+-------------------------------+----------------------+----------------------+\n",
      "                                                                               \n",
      "+-----------------------------------------------------------------------------+\n",
      "| Processes:                                                                  |\n",
      "|  GPU   GI   CI        PID   Type   Process name                  GPU Memory |\n",
      "|        ID   ID                                                   Usage      |\n",
      "|=============================================================================|\n",
      "|    0   N/A  N/A      3535      C   python                          15303MiB |\n",
      "|    0   N/A  N/A     11001      C   ...sal/miniconda3/bin/python     1667MiB |\n",
      "|    1   N/A  N/A     29097      C   ..._PermGNN_venv/bin/python3      713MiB |\n",
      "+-----------------------------------------------------------------------------+\n"
     ]
    }
   ],
   "source": [
    "# CS 763 - Lab 8 (GANs) Part-A\n",
    "#!/usr/bin/env python\n",
    "# coding: utf-8\n",
    "\n",
    "\n",
    "from tqdm import tqdm\n",
    "import time\n",
    "import sys\n",
    "import os\n",
    "import PIL\n",
    "from torch.nn import functional as F\n",
    "from torch import nn, optim\n",
    "from torchvision import transforms, models, datasets\n",
    "import matplotlib.pyplot as plt\n",
    "import torchvision\n",
    "import random\n",
    "import torch\n",
    "import numpy as np\n",
    "# from google.colab import drive\n",
    "# drive.mount('/content/drive')\n",
    "\n",
    "# Check for GPU specs\n",
    "get_ipython().system('nvidia-smi')\n",
    "\n",
    "# device set to cuda if GPU available\n",
    "device = torch.device(\"cuda\" if torch.cuda.is_available() else \"cpu\")"
   ]
  },
  {
   "cell_type": "code",
   "execution_count": 2,
   "metadata": {
    "scrolled": true
   },
   "outputs": [
    {
     "name": "stdout",
     "output_type": "stream",
     "text": [
      "Lenth of Trainset = 60000\n",
      "Lenth of Testset = 10000\n",
      "Dimensions of each image = (28,28)\n"
     ]
    },
    {
     "data": {
      "image/png": "[encoded data removed]",
      "text/plain": [
       "<Figure size 1440x288 with 6 Axes>"
      ]
     },
     "metadata": {
      "needs_background": "light"
     },
     "output_type": "display_data"
    }
   ],
   "source": [
    "# Function to fix the seed for randomisation\n",
    "\n",
    "def fix_seed(seed=0):\n",
    "    random.seed(seed)\n",
    "    os.environ['PYTHONHASHSEED'] = str(seed)\n",
    "    np.random.seed(seed)\n",
    "    torch.manual_seed(seed)\n",
    "    torch.cuda.manual_seed(seed)\n",
    "    torch.cuda.manual_seed_all(seed)  # if you are using multi-GPU.\n",
    "    torch.backends.cudnn.benchmark = False\n",
    "    torch.backends.cudnn.deterministic = True\n",
    "\n",
    "\n",
    "fix_seed(763)\n",
    "\n",
    "\n",
    "# We will use the MNIST dataset for Part A of the lab.\n",
    "\n",
    "# define transformations to be applied on the input images\n",
    "# Input images from the dataset are PIL objects, hence we first convert them to Tensors, then we normalise them\n",
    "transform = transforms.Compose([\n",
    "    transforms.ToTensor(),\n",
    "    transforms.Normalize(mean=(0.5), std=(0.5))])\n",
    "\n",
    "trainset = torchvision.datasets.MNIST(\n",
    "    './data', download=True, train=True, transform=transform)\n",
    "testset = torchvision.datasets.MNIST(\n",
    "    './data', download=True, train=False, transform=transform)\n",
    "\n",
    "# dataloaders\n",
    "trainloader = torch.utils.data.DataLoader(\n",
    "    trainset, batch_size=128, num_workers=2, shuffle=True)\n",
    "testloader = torch.utils.data.DataLoader(\n",
    "    trainset, batch_size=128, num_workers=2)\n",
    "\n",
    "# Visualising the dataset\n",
    "print('Lenth of Trainset = {}'.format(len(trainset)))\n",
    "print('Lenth of Testset = {}'.format(len(testset)))\n",
    "print('Dimensions of each image = ({},{})'.format(\n",
    "    trainset[0][0].shape[1], trainset[0][0].shape[2]))\n",
    "fig, axs = plt.subplots(1, 6, sharey=True, figsize=(20, 4))\n",
    "for i in range(6):\n",
    "    axs[i].imshow(trainset[i][0].squeeze(), cmap='gray')\n",
    "    axs[i].set_title('Class {}'.format(trainset[i][1]))\n",
    "plt.suptitle('MNIST Train Images')\n",
    "plt.show()"
   ]
  },
  {
   "cell_type": "code",
   "execution_count": 3,
   "metadata": {},
   "outputs": [],
   "source": [
    "# Generator and Discriminator Architecures\n",
    "\n",
    "# The generator takes a noise vector of size (B,100), where B is the batch size and produces a 28x28 image\n",
    "class Generator(nn.Module):\n",
    "    def __init__(self):\n",
    "        super(Generator, self).__init__()\n",
    "        ## TODO ##\n",
    "        self.network = nn.Sequential(\n",
    "          nn.ConvTranspose2d(100, 32*4, 4, 1, 0, bias=False),\n",
    "          nn.BatchNorm2d(32*4),\n",
    "          nn.ReLU(True),\n",
    "  \n",
    "          nn.ConvTranspose2d(32*4, 32*2, 3, 2, 1, bias=False),\n",
    "          nn.BatchNorm2d(32*2),\n",
    "          nn.ReLU(True),\n",
    "  \n",
    "          nn.ConvTranspose2d(32*2, 32, 4, 2, 1, bias=False),\n",
    "          nn.BatchNorm2d(32),\n",
    "          nn.ReLU(True),\n",
    "  \n",
    "          nn.ConvTranspose2d(32, 1, 4, 2, 1, bias=False),\n",
    "          nn.Tanh()\n",
    "      )\n",
    "        ## TODO ##\n",
    "\n",
    "    # forward pass\n",
    "    def forward(self, x):\n",
    "        ## TODO ##\n",
    "        output = self.network(x)\n",
    "        return output\n",
    "        ## TODO ##\n",
    "\n",
    "\n",
    "class Discriminator(nn.Module):\n",
    "    def __init__(self):\n",
    "        super(Discriminator, self).__init__()\n",
    "        ## TODO ##\n",
    "        self.network = nn.Sequential(\n",
    "                nn.Conv2d(1, 32, 4, 2, 1, bias=False),\n",
    "                nn.LeakyReLU(0.2, inplace=True),\n",
    "\n",
    "                nn.Conv2d(32, 32 * 2, 4, 2, 1, bias=False),\n",
    "                nn.BatchNorm2d(32 * 2),\n",
    "                nn.LeakyReLU(0.2, inplace=True),\n",
    "                \n",
    "                nn.Conv2d(32 * 2, 32 * 4, 3, 2, 1, bias=False),\n",
    "                nn.BatchNorm2d(32 * 4),\n",
    "                nn.LeakyReLU(0.2, inplace=True),\n",
    "                \n",
    "                nn.Conv2d(32 * 4, 1, 4, 1, 0, bias=False),\n",
    "                nn.Sigmoid()\n",
    "            )\n",
    "        ## TODO ##\n",
    "\n",
    "    # forward pass\n",
    "    def forward(self, x):\n",
    "        ## TODO ##\n",
    "        output = self.network(x)\n",
    "        return output.view(-1, 1).squeeze(1)\n",
    "        ## TODO ##"
   ]
  },
  {
   "cell_type": "code",
   "execution_count": 5,
   "metadata": {},
   "outputs": [],
   "source": [
    "# Create the models\n",
    "    \n",
    "G = Generator().to(device)\n",
    "D = Discriminator().to(device)\n",
    "\n",
    "# Create a BCELoss object\n",
    "## TODO ##\n",
    "criterion = torch.nn.BCELoss()\n",
    "## TODO ##\n",
    "\n",
    "# Define two separate optimizers for generator and discriminator\n",
    "## TODO ##\n",
    "lr = 1e-4\n",
    "optimizer_g = torch.optim.Adam(G.parameters(),lr=lr)\n",
    "optimizer_d = torch.optim.Adam(D.parameters(),lr=lr)\n",
    "## TODO ##\n",
    "\n",
    "\n",
    "# Train Function\n",
    "# returns the total loss for the epoch\n",
    "def train(epoch):\n",
    "    loss_acc_g = 0\n",
    "    loss_acc_d = 0\n",
    "    loss_acc = 0\n",
    "\n",
    "    for i, (images, _) in tqdm(enumerate(trainloader), desc=\"Training for epoch {}\".format(epoch), total=len(trainloader)):\n",
    "        optimizer_d.zero_grad()\n",
    "        # Discriminator training on real images\n",
    "        ## TODO ##\n",
    "        prediction_on_real = D(images.to(device))\n",
    "        loss_real = criterion(prediction_on_real,torch.ones(prediction_on_real.shape[0]).to(device))\n",
    "        ## TODO ##\n",
    "        # Discriminator training on fake images\n",
    "        ## TODO ##\n",
    "        fake_samples = G(torch.empty(images.shape[0],100,1,1).normal_().to(device))\n",
    "        prediction_on_fake = D(fake_samples.detach())  # don't forget to use detach() here\n",
    "        loss_fake = criterion(prediction_on_fake,torch.zeros(prediction_on_fake.shape[0]).to(device))\n",
    "        ## TODO ##\n",
    "        loss_d = loss_real + loss_fake\n",
    "        loss_d.backward()\n",
    "        optimizer_d.step()\n",
    "\n",
    "        # Generator training\n",
    "        optimizer_g.zero_grad()\n",
    "        ## TODO ##\n",
    "        fake_samples = G(torch.empty(images.shape[0],100,1,1).normal_().to(device))\n",
    "        prediction_on_fake = D(fake_samples)\n",
    "        loss_g = criterion(prediction_on_fake,torch.ones(prediction_on_fake.shape[0]).to(device))\n",
    "        ## TODO ##\n",
    "        loss_g.backward()\n",
    "        optimizer_g.step()\n",
    "\n",
    "        loss_acc += (loss_g + loss_d).item()\n",
    "        loss_acc_g += loss_g.item()\n",
    "        loss_acc_d += loss_d.item()\n",
    "\n",
    "    return loss_acc/i, loss_acc_g/i, loss_acc_d/i"
   ]
  },
  {
   "cell_type": "code",
   "execution_count": 9,
   "metadata": {
    "scrolled": true
   },
   "outputs": [
    {
     "name": "stderr",
     "output_type": "stream",
     "text": [
      "Training for epoch 11: 100%|██████████| 469/469 [00:06<00:00, 67.52it/s]\n"
     ]
    },
    {
     "name": "stdout",
     "output_type": "stream",
     "text": [
      "loss_g = 2.2626506003559146, loss_d = 0.395518031098649\n",
      "\n"
     ]
    },
    {
     "name": "stderr",
     "output_type": "stream",
     "text": [
      "Training for epoch 12: 100%|██████████| 469/469 [00:07<00:00, 61.90it/s]\n"
     ]
    },
    {
     "name": "stdout",
     "output_type": "stream",
     "text": [
      "loss_g = 2.3925690834338846, loss_d = 0.41499011291780025\n",
      "\n"
     ]
    },
    {
     "name": "stderr",
     "output_type": "stream",
     "text": [
      "Training for epoch 13: 100%|██████████| 469/469 [00:06<00:00, 68.95it/s]\n"
     ]
    },
    {
     "name": "stdout",
     "output_type": "stream",
     "text": [
      "loss_g = 2.245841706665153, loss_d = 0.4420786121398465\n",
      "\n"
     ]
    },
    {
     "name": "stderr",
     "output_type": "stream",
     "text": [
      "Training for epoch 14: 100%|██████████| 469/469 [00:06<00:00, 68.34it/s]\n"
     ]
    },
    {
     "name": "stdout",
     "output_type": "stream",
     "text": [
      "loss_g = 2.204765967451609, loss_d = 0.45061732029430884\n",
      "\n"
     ]
    },
    {
     "name": "stderr",
     "output_type": "stream",
     "text": [
      "Training for epoch 15: 100%|██████████| 469/469 [00:07<00:00, 66.29it/s]\n"
     ]
    },
    {
     "name": "stdout",
     "output_type": "stream",
     "text": [
      "loss_g = 2.1579209820837035, loss_d = 0.4517282830216946\n",
      "\n"
     ]
    },
    {
     "name": "stderr",
     "output_type": "stream",
     "text": [
      "Training for epoch 16: 100%|██████████| 469/469 [00:07<00:00, 62.77it/s]\n"
     ]
    },
    {
     "name": "stdout",
     "output_type": "stream",
     "text": [
      "loss_g = 2.197556102887178, loss_d = 0.48085797616304493\n",
      "\n"
     ]
    },
    {
     "name": "stderr",
     "output_type": "stream",
     "text": [
      "Training for epoch 17: 100%|██████████| 469/469 [00:07<00:00, 64.33it/s]\n"
     ]
    },
    {
     "name": "stdout",
     "output_type": "stream",
     "text": [
      "loss_g = 2.1463652939623237, loss_d = 0.4765850706423959\n",
      "\n"
     ]
    },
    {
     "name": "stderr",
     "output_type": "stream",
     "text": [
      "Training for epoch 18: 100%|██████████| 469/469 [00:07<00:00, 66.33it/s]\n"
     ]
    },
    {
     "name": "stdout",
     "output_type": "stream",
     "text": [
      "loss_g = 2.1297757347934265, loss_d = 0.4931157581253439\n",
      "\n"
     ]
    },
    {
     "name": "stderr",
     "output_type": "stream",
     "text": [
      "Training for epoch 19: 100%|██████████| 469/469 [00:07<00:00, 63.52it/s]\n"
     ]
    },
    {
     "name": "stdout",
     "output_type": "stream",
     "text": [
      "loss_g = 2.0955878246543755, loss_d = 0.4788924472836348\n",
      "\n"
     ]
    },
    {
     "name": "stderr",
     "output_type": "stream",
     "text": [
      "Training for epoch 20: 100%|██████████| 469/469 [00:07<00:00, 63.55it/s]\n"
     ]
    },
    {
     "name": "stdout",
     "output_type": "stream",
     "text": [
      "loss_g = 2.1317059867657147, loss_d = 0.4964427199119177\n",
      "\n"
     ]
    },
    {
     "name": "stderr",
     "output_type": "stream",
     "text": [
      "Training for epoch 21: 100%|██████████| 469/469 [00:06<00:00, 67.12it/s]\n"
     ]
    },
    {
     "name": "stdout",
     "output_type": "stream",
     "text": [
      "loss_g = 2.145607569788256, loss_d = 0.4970001710148958\n",
      "\n"
     ]
    },
    {
     "name": "stderr",
     "output_type": "stream",
     "text": [
      "Training for epoch 22: 100%|██████████| 469/469 [00:07<00:00, 63.44it/s]\n"
     ]
    },
    {
     "name": "stdout",
     "output_type": "stream",
     "text": [
      "loss_g = 2.158621941621487, loss_d = 0.4901312349889523\n",
      "\n"
     ]
    },
    {
     "name": "stderr",
     "output_type": "stream",
     "text": [
      "Training for epoch 23: 100%|██████████| 469/469 [00:07<00:00, 64.41it/s]\n"
     ]
    },
    {
     "name": "stdout",
     "output_type": "stream",
     "text": [
      "loss_g = 2.1014373931619854, loss_d = 0.5163114726479746\n",
      "\n"
     ]
    },
    {
     "name": "stderr",
     "output_type": "stream",
     "text": [
      "Training for epoch 24: 100%|██████████| 469/469 [00:07<00:00, 64.15it/s]\n"
     ]
    },
    {
     "name": "stdout",
     "output_type": "stream",
     "text": [
      "loss_g = 2.0955811156931086, loss_d = 0.5056669286683074\n",
      "\n"
     ]
    },
    {
     "name": "stderr",
     "output_type": "stream",
     "text": [
      "Training for epoch 25: 100%|██████████| 469/469 [00:07<00:00, 65.02it/s]\n"
     ]
    },
    {
     "name": "stdout",
     "output_type": "stream",
     "text": [
      "loss_g = 2.151016551077875, loss_d = 0.5114270682390939\n",
      "\n"
     ]
    },
    {
     "name": "stderr",
     "output_type": "stream",
     "text": [
      "Training for epoch 26: 100%|██████████| 469/469 [00:06<00:00, 67.94it/s]\n"
     ]
    },
    {
     "name": "stdout",
     "output_type": "stream",
     "text": [
      "loss_g = 2.133574623073268, loss_d = 0.5380587670792881\n",
      "\n"
     ]
    },
    {
     "name": "stderr",
     "output_type": "stream",
     "text": [
      "Training for epoch 27: 100%|██████████| 469/469 [00:07<00:00, 62.36it/s]\n"
     ]
    },
    {
     "name": "stdout",
     "output_type": "stream",
     "text": [
      "loss_g = 2.07213376628028, loss_d = 0.5198005905263444\n",
      "\n"
     ]
    },
    {
     "name": "stderr",
     "output_type": "stream",
     "text": [
      "Training for epoch 28: 100%|██████████| 469/469 [00:07<00:00, 65.62it/s]\n"
     ]
    },
    {
     "name": "stdout",
     "output_type": "stream",
     "text": [
      "loss_g = 2.065627920321929, loss_d = 0.5223452733495296\n",
      "\n"
     ]
    },
    {
     "name": "stderr",
     "output_type": "stream",
     "text": [
      "Training for epoch 29: 100%|██████████| 469/469 [00:07<00:00, 66.36it/s]\n"
     ]
    },
    {
     "name": "stdout",
     "output_type": "stream",
     "text": [
      "loss_g = 2.113752112047285, loss_d = 0.5213593139480321\n",
      "\n"
     ]
    },
    {
     "name": "stderr",
     "output_type": "stream",
     "text": [
      "Training for epoch 30: 100%|██████████| 469/469 [00:06<00:00, 67.88it/s]\n"
     ]
    },
    {
     "name": "stdout",
     "output_type": "stream",
     "text": [
      "loss_g = 2.0923410822183657, loss_d = 0.5450197536275427\n",
      "\n"
     ]
    },
    {
     "name": "stderr",
     "output_type": "stream",
     "text": [
      "Training for epoch 31: 100%|██████████| 469/469 [00:07<00:00, 65.77it/s]\n"
     ]
    },
    {
     "name": "stdout",
     "output_type": "stream",
     "text": [
      "loss_g = 2.109168264473605, loss_d = 0.5403608644110525\n",
      "\n"
     ]
    },
    {
     "name": "stderr",
     "output_type": "stream",
     "text": [
      "Training for epoch 32: 100%|██████████| 469/469 [00:07<00:00, 65.65it/s]\n"
     ]
    },
    {
     "name": "stdout",
     "output_type": "stream",
     "text": [
      "loss_g = 2.0450342203307357, loss_d = 0.5380903008019823\n",
      "\n"
     ]
    },
    {
     "name": "stderr",
     "output_type": "stream",
     "text": [
      "Training for epoch 33: 100%|██████████| 469/469 [00:07<00:00, 65.38it/s]\n"
     ]
    },
    {
     "name": "stdout",
     "output_type": "stream",
     "text": [
      "loss_g = 2.0654479621822, loss_d = 0.5177506417609178\n",
      "\n"
     ]
    },
    {
     "name": "stderr",
     "output_type": "stream",
     "text": [
      "Training for epoch 34: 100%|██████████| 469/469 [00:07<00:00, 64.57it/s]\n"
     ]
    },
    {
     "name": "stdout",
     "output_type": "stream",
     "text": [
      "loss_g = 2.0452885212551832, loss_d = 0.526726729531064\n",
      "\n"
     ]
    },
    {
     "name": "stderr",
     "output_type": "stream",
     "text": [
      "Training for epoch 35: 100%|██████████| 469/469 [00:07<00:00, 65.00it/s]\n"
     ]
    },
    {
     "name": "stdout",
     "output_type": "stream",
     "text": [
      "loss_g = 2.095603975602704, loss_d = 0.5150525293543807\n",
      "\n"
     ]
    },
    {
     "name": "stderr",
     "output_type": "stream",
     "text": [
      "Training for epoch 36: 100%|██████████| 469/469 [00:07<00:00, 63.95it/s]\n"
     ]
    },
    {
     "name": "stdout",
     "output_type": "stream",
     "text": [
      "loss_g = 2.090113720832727, loss_d = 0.5179671547097019\n",
      "\n"
     ]
    },
    {
     "name": "stderr",
     "output_type": "stream",
     "text": [
      "Training for epoch 37: 100%|██████████| 469/469 [00:07<00:00, 64.75it/s]\n"
     ]
    },
    {
     "name": "stdout",
     "output_type": "stream",
     "text": [
      "loss_g = 2.0665904517866607, loss_d = 0.5192372291070274\n",
      "\n"
     ]
    },
    {
     "name": "stderr",
     "output_type": "stream",
     "text": [
      "Training for epoch 38: 100%|██████████| 469/469 [00:06<00:00, 67.57it/s]\n"
     ]
    },
    {
     "name": "stdout",
     "output_type": "stream",
     "text": [
      "loss_g = 2.091976159530827, loss_d = 0.520338609878324\n",
      "\n"
     ]
    },
    {
     "name": "stderr",
     "output_type": "stream",
     "text": [
      "Training for epoch 39: 100%|██████████| 469/469 [00:07<00:00, 64.32it/s]\n"
     ]
    },
    {
     "name": "stdout",
     "output_type": "stream",
     "text": [
      "loss_g = 2.103331313938157, loss_d = 0.5344589848039497\n",
      "\n"
     ]
    },
    {
     "name": "stderr",
     "output_type": "stream",
     "text": [
      "Training for epoch 40: 100%|██████████| 469/469 [00:06<00:00, 67.05it/s]\n"
     ]
    },
    {
     "name": "stdout",
     "output_type": "stream",
     "text": [
      "loss_g = 2.066174950227778, loss_d = 0.5404265457684667\n",
      "\n"
     ]
    },
    {
     "name": "stderr",
     "output_type": "stream",
     "text": [
      "Training for epoch 41: 100%|██████████| 469/469 [00:06<00:00, 68.04it/s]\n"
     ]
    },
    {
     "name": "stdout",
     "output_type": "stream",
     "text": [
      "loss_g = 2.049889652010722, loss_d = 0.5144038049456401\n",
      "\n"
     ]
    },
    {
     "name": "stderr",
     "output_type": "stream",
     "text": [
      "Training for epoch 42: 100%|██████████| 469/469 [00:07<00:00, 66.71it/s]\n"
     ]
    },
    {
     "name": "stdout",
     "output_type": "stream",
     "text": [
      "loss_g = 2.081078376907569, loss_d = 0.49686129056872463\n",
      "\n"
     ]
    },
    {
     "name": "stderr",
     "output_type": "stream",
     "text": [
      "Training for epoch 43: 100%|██████████| 469/469 [00:07<00:00, 64.88it/s]\n"
     ]
    },
    {
     "name": "stdout",
     "output_type": "stream",
     "text": [
      "loss_g = 2.110674128573165, loss_d = 0.4930784791453272\n",
      "\n"
     ]
    },
    {
     "name": "stderr",
     "output_type": "stream",
     "text": [
      "Training for epoch 44: 100%|██████████| 469/469 [00:07<00:00, 65.63it/s]\n"
     ]
    },
    {
     "name": "stdout",
     "output_type": "stream",
     "text": [
      "loss_g = 2.141582755578889, loss_d = 0.5167845845158793\n",
      "\n"
     ]
    },
    {
     "name": "stderr",
     "output_type": "stream",
     "text": [
      "Training for epoch 45: 100%|██████████| 469/469 [00:07<00:00, 65.13it/s]\n"
     ]
    },
    {
     "name": "stdout",
     "output_type": "stream",
     "text": [
      "loss_g = 2.108098312575593, loss_d = 0.5164653723820661\n",
      "\n"
     ]
    },
    {
     "name": "stderr",
     "output_type": "stream",
     "text": [
      "Training for epoch 46: 100%|██████████| 469/469 [00:07<00:00, 62.56it/s]\n"
     ]
    },
    {
     "name": "stdout",
     "output_type": "stream",
     "text": [
      "loss_g = 2.084258478294071, loss_d = 0.5387172217234077\n",
      "\n"
     ]
    },
    {
     "name": "stderr",
     "output_type": "stream",
     "text": [
      "Training for epoch 47: 100%|██████████| 469/469 [00:07<00:00, 64.01it/s]\n"
     ]
    },
    {
     "name": "stdout",
     "output_type": "stream",
     "text": [
      "loss_g = 2.1273667614938865, loss_d = 0.49950492146432907\n",
      "\n"
     ]
    },
    {
     "name": "stderr",
     "output_type": "stream",
     "text": [
      "Training for epoch 48: 100%|██████████| 469/469 [00:07<00:00, 63.53it/s]\n"
     ]
    },
    {
     "name": "stdout",
     "output_type": "stream",
     "text": [
      "loss_g = 2.1429967169578257, loss_d = 0.5048190898174404\n",
      "\n"
     ]
    },
    {
     "name": "stderr",
     "output_type": "stream",
     "text": [
      "Training for epoch 49: 100%|██████████| 469/469 [00:07<00:00, 65.89it/s]\n"
     ]
    },
    {
     "name": "stdout",
     "output_type": "stream",
     "text": [
      "loss_g = 2.1043266261744704, loss_d = 0.5085089947296004\n",
      "\n"
     ]
    },
    {
     "name": "stderr",
     "output_type": "stream",
     "text": [
      "Training for epoch 50: 100%|██████████| 469/469 [00:07<00:00, 65.02it/s]\n"
     ]
    },
    {
     "name": "stdout",
     "output_type": "stream",
     "text": [
      "loss_g = 2.1629680235925903, loss_d = 0.5188691712852217\n",
      "\n"
     ]
    },
    {
     "name": "stderr",
     "output_type": "stream",
     "text": [
      "Training for epoch 51: 100%|██████████| 469/469 [00:07<00:00, 64.99it/s]\n"
     ]
    },
    {
     "name": "stdout",
     "output_type": "stream",
     "text": [
      "loss_g = 2.1435845657291575, loss_d = 0.48730037125766784\n",
      "\n"
     ]
    },
    {
     "name": "stderr",
     "output_type": "stream",
     "text": [
      "Training for epoch 52: 100%|██████████| 469/469 [00:07<00:00, 63.45it/s]\n"
     ]
    },
    {
     "name": "stdout",
     "output_type": "stream",
     "text": [
      "loss_g = 2.1984392694937878, loss_d = 0.4867779296050724\n",
      "\n"
     ]
    },
    {
     "name": "stderr",
     "output_type": "stream",
     "text": [
      "Training for epoch 53: 100%|██████████| 469/469 [00:07<00:00, 66.39it/s]\n"
     ]
    },
    {
     "name": "stdout",
     "output_type": "stream",
     "text": [
      "loss_g = 2.100533331179211, loss_d = 0.5095630930338659\n",
      "\n"
     ]
    },
    {
     "name": "stderr",
     "output_type": "stream",
     "text": [
      "Training for epoch 54: 100%|██████████| 469/469 [00:07<00:00, 66.01it/s]\n"
     ]
    },
    {
     "name": "stdout",
     "output_type": "stream",
     "text": [
      "loss_g = 2.153444124465315, loss_d = 0.49934885695449305\n",
      "\n"
     ]
    },
    {
     "name": "stderr",
     "output_type": "stream",
     "text": [
      "Training for epoch 55: 100%|██████████| 469/469 [00:07<00:00, 63.39it/s]\n"
     ]
    },
    {
     "name": "stdout",
     "output_type": "stream",
     "text": [
      "loss_g = 2.2511944549205976, loss_d = 0.4702193374053026\n",
      "\n"
     ]
    },
    {
     "name": "stderr",
     "output_type": "stream",
     "text": [
      "Training for epoch 56: 100%|██████████| 469/469 [00:07<00:00, 65.73it/s]\n"
     ]
    },
    {
     "name": "stdout",
     "output_type": "stream",
     "text": [
      "loss_g = 2.1884126398298474, loss_d = 0.4790998333030277\n",
      "\n"
     ]
    },
    {
     "name": "stderr",
     "output_type": "stream",
     "text": [
      "Training for epoch 57: 100%|██████████| 469/469 [00:07<00:00, 64.42it/s]\n"
     ]
    },
    {
     "name": "stdout",
     "output_type": "stream",
     "text": [
      "loss_g = 2.1654721171173277, loss_d = 0.4868724076793744\n",
      "\n"
     ]
    },
    {
     "name": "stderr",
     "output_type": "stream",
     "text": [
      "Training for epoch 58: 100%|██████████| 469/469 [00:07<00:00, 62.19it/s]\n"
     ]
    },
    {
     "name": "stdout",
     "output_type": "stream",
     "text": [
      "loss_g = 2.198834620225124, loss_d = 0.48426013060996675\n",
      "\n"
     ]
    },
    {
     "name": "stderr",
     "output_type": "stream",
     "text": [
      "Training for epoch 59: 100%|██████████| 469/469 [00:07<00:00, 65.16it/s]\n"
     ]
    },
    {
     "name": "stdout",
     "output_type": "stream",
     "text": [
      "loss_g = 2.1765316680201097, loss_d = 0.4695598063751673\n",
      "\n"
     ]
    },
    {
     "name": "stderr",
     "output_type": "stream",
     "text": [
      "Training for epoch 60: 100%|██████████| 469/469 [00:07<00:00, 63.88it/s]\n"
     ]
    },
    {
     "name": "stdout",
     "output_type": "stream",
     "text": [
      "loss_g = 2.237348092799513, loss_d = 0.4587225217021938\n",
      "\n"
     ]
    },
    {
     "name": "stderr",
     "output_type": "stream",
     "text": [
      "Training for epoch 61: 100%|██████████| 469/469 [00:07<00:00, 63.35it/s]\n"
     ]
    },
    {
     "name": "stdout",
     "output_type": "stream",
     "text": [
      "loss_g = 2.1976351260374756, loss_d = 0.48754508812458086\n",
      "\n"
     ]
    },
    {
     "name": "stderr",
     "output_type": "stream",
     "text": [
      "Training for epoch 62: 100%|██████████| 469/469 [00:07<00:00, 61.89it/s]\n"
     ]
    },
    {
     "name": "stdout",
     "output_type": "stream",
     "text": [
      "loss_g = 2.2168286133271, loss_d = 0.4742280922384344\n",
      "\n"
     ]
    },
    {
     "name": "stderr",
     "output_type": "stream",
     "text": [
      "Training for epoch 63: 100%|██████████| 469/469 [00:06<00:00, 69.04it/s]\n"
     ]
    },
    {
     "name": "stdout",
     "output_type": "stream",
     "text": [
      "loss_g = 2.2013281343074946, loss_d = 0.44238631669272727\n",
      "\n"
     ]
    },
    {
     "name": "stderr",
     "output_type": "stream",
     "text": [
      "Training for epoch 64: 100%|██████████| 469/469 [00:06<00:00, 67.22it/s]\n"
     ]
    },
    {
     "name": "stdout",
     "output_type": "stream",
     "text": [
      "loss_g = 2.276000432861157, loss_d = 0.4554547385718578\n",
      "\n"
     ]
    },
    {
     "name": "stderr",
     "output_type": "stream",
     "text": [
      "Training for epoch 65: 100%|██████████| 469/469 [00:07<00:00, 61.36it/s]\n"
     ]
    },
    {
     "name": "stdout",
     "output_type": "stream",
     "text": [
      "loss_g = 2.226623758418947, loss_d = 0.47428887334262204\n",
      "\n"
     ]
    },
    {
     "name": "stderr",
     "output_type": "stream",
     "text": [
      "Training for epoch 66: 100%|██████████| 469/469 [00:07<00:00, 66.98it/s]\n"
     ]
    },
    {
     "name": "stdout",
     "output_type": "stream",
     "text": [
      "loss_g = 2.2358018609448376, loss_d = 0.47640295358549833\n",
      "\n"
     ]
    },
    {
     "name": "stderr",
     "output_type": "stream",
     "text": [
      "Training for epoch 67: 100%|██████████| 469/469 [00:07<00:00, 63.88it/s]\n"
     ]
    },
    {
     "name": "stdout",
     "output_type": "stream",
     "text": [
      "loss_g = 2.274055127404694, loss_d = 0.4713723888764015\n",
      "\n"
     ]
    },
    {
     "name": "stderr",
     "output_type": "stream",
     "text": [
      "Training for epoch 68: 100%|██████████| 469/469 [00:07<00:00, 65.86it/s]\n"
     ]
    },
    {
     "name": "stdout",
     "output_type": "stream",
     "text": [
      "loss_g = 2.216546710102986, loss_d = 0.46444284581603146\n",
      "\n"
     ]
    },
    {
     "name": "stderr",
     "output_type": "stream",
     "text": [
      "Training for epoch 69: 100%|██████████| 469/469 [00:07<00:00, 65.41it/s]\n"
     ]
    },
    {
     "name": "stdout",
     "output_type": "stream",
     "text": [
      "loss_g = 2.2485900772178273, loss_d = 0.44411161239457947\n",
      "\n"
     ]
    },
    {
     "name": "stderr",
     "output_type": "stream",
     "text": [
      "Training for epoch 70: 100%|██████████| 469/469 [00:07<00:00, 65.54it/s]\n"
     ]
    },
    {
     "name": "stdout",
     "output_type": "stream",
     "text": [
      "loss_g = 2.2972894919733715, loss_d = 0.44302749544636816\n",
      "\n"
     ]
    },
    {
     "name": "stderr",
     "output_type": "stream",
     "text": [
      "Training for epoch 71: 100%|██████████| 469/469 [00:07<00:00, 65.10it/s]\n"
     ]
    },
    {
     "name": "stdout",
     "output_type": "stream",
     "text": [
      "loss_g = 2.337287432426571, loss_d = 0.4554082634102585\n",
      "\n"
     ]
    },
    {
     "name": "stderr",
     "output_type": "stream",
     "text": [
      "Training for epoch 72: 100%|██████████| 469/469 [00:07<00:00, 60.10it/s]\n"
     ]
    },
    {
     "name": "stdout",
     "output_type": "stream",
     "text": [
      "loss_g = 2.3432909350874076, loss_d = 0.443475465521089\n",
      "\n"
     ]
    },
    {
     "name": "stderr",
     "output_type": "stream",
     "text": [
      "Training for epoch 73: 100%|██████████| 469/469 [00:07<00:00, 63.11it/s]\n"
     ]
    },
    {
     "name": "stdout",
     "output_type": "stream",
     "text": [
      "loss_g = 2.2903284644469237, loss_d = 0.44603145501425123\n",
      "\n"
     ]
    },
    {
     "name": "stderr",
     "output_type": "stream",
     "text": [
      "Training for epoch 74: 100%|██████████| 469/469 [00:07<00:00, 66.39it/s]\n"
     ]
    },
    {
     "name": "stdout",
     "output_type": "stream",
     "text": [
      "loss_g = 2.3312872477576265, loss_d = 0.4230844201122084\n",
      "\n"
     ]
    },
    {
     "name": "stderr",
     "output_type": "stream",
     "text": [
      "Training for epoch 75: 100%|██████████| 469/469 [00:07<00:00, 66.12it/s]\n"
     ]
    },
    {
     "name": "stdout",
     "output_type": "stream",
     "text": [
      "loss_g = 2.3414379360838833, loss_d = 0.4323929198659383\n",
      "\n"
     ]
    },
    {
     "name": "stderr",
     "output_type": "stream",
     "text": [
      "Training for epoch 76: 100%|██████████| 469/469 [00:06<00:00, 67.71it/s]\n"
     ]
    },
    {
     "name": "stdout",
     "output_type": "stream",
     "text": [
      "loss_g = 2.3654876909194846, loss_d = 0.42451389783468\n",
      "\n"
     ]
    },
    {
     "name": "stderr",
     "output_type": "stream",
     "text": [
      "Training for epoch 77: 100%|██████████| 469/469 [00:07<00:00, 61.08it/s]\n"
     ]
    },
    {
     "name": "stdout",
     "output_type": "stream",
     "text": [
      "loss_g = 2.3470510583148045, loss_d = 0.4435599900336347\n",
      "\n"
     ]
    },
    {
     "name": "stderr",
     "output_type": "stream",
     "text": [
      "Training for epoch 78: 100%|██████████| 469/469 [00:07<00:00, 62.19it/s]\n"
     ]
    },
    {
     "name": "stdout",
     "output_type": "stream",
     "text": [
      "loss_g = 2.3464118983501043, loss_d = 0.4267284958981551\n",
      "\n"
     ]
    },
    {
     "name": "stderr",
     "output_type": "stream",
     "text": [
      "Training for epoch 79: 100%|██████████| 469/469 [00:07<00:00, 65.24it/s]\n"
     ]
    },
    {
     "name": "stdout",
     "output_type": "stream",
     "text": [
      "loss_g = 2.423361529206109, loss_d = 0.4514549739467792\n",
      "\n"
     ]
    },
    {
     "name": "stderr",
     "output_type": "stream",
     "text": [
      "Training for epoch 80: 100%|██████████| 469/469 [00:07<00:00, 64.78it/s]\n"
     ]
    },
    {
     "name": "stdout",
     "output_type": "stream",
     "text": [
      "loss_g = 2.446577601071097, loss_d = 0.44537973193786085\n",
      "\n"
     ]
    },
    {
     "name": "stderr",
     "output_type": "stream",
     "text": [
      "Training for epoch 81: 100%|██████████| 469/469 [00:07<00:00, 64.88it/s]\n"
     ]
    },
    {
     "name": "stdout",
     "output_type": "stream",
     "text": [
      "loss_g = 2.399081882248577, loss_d = 0.4057198570261144\n",
      "\n"
     ]
    },
    {
     "name": "stderr",
     "output_type": "stream",
     "text": [
      "Training for epoch 82: 100%|██████████| 469/469 [00:06<00:00, 67.82it/s]\n"
     ]
    },
    {
     "name": "stdout",
     "output_type": "stream",
     "text": [
      "loss_g = 2.4231680625269556, loss_d = 0.40770598052021784\n",
      "\n"
     ]
    },
    {
     "name": "stderr",
     "output_type": "stream",
     "text": [
      "Training for epoch 83: 100%|██████████| 469/469 [00:07<00:00, 64.92it/s]\n"
     ]
    },
    {
     "name": "stdout",
     "output_type": "stream",
     "text": [
      "loss_g = 2.4301117507056293, loss_d = 0.41300792651426077\n",
      "\n"
     ]
    },
    {
     "name": "stderr",
     "output_type": "stream",
     "text": [
      "Training for epoch 84: 100%|██████████| 469/469 [00:07<00:00, 64.41it/s]\n"
     ]
    },
    {
     "name": "stdout",
     "output_type": "stream",
     "text": [
      "loss_g = 2.4474015564490585, loss_d = 0.42246777003901637\n",
      "\n"
     ]
    },
    {
     "name": "stderr",
     "output_type": "stream",
     "text": [
      "Training for epoch 85: 100%|██████████| 469/469 [00:07<00:00, 65.38it/s]\n"
     ]
    },
    {
     "name": "stdout",
     "output_type": "stream",
     "text": [
      "loss_g = 2.4701434103851643, loss_d = 0.421083421438423\n",
      "\n"
     ]
    },
    {
     "name": "stderr",
     "output_type": "stream",
     "text": [
      "Training for epoch 86: 100%|██████████| 469/469 [00:06<00:00, 67.38it/s]\n"
     ]
    },
    {
     "name": "stdout",
     "output_type": "stream",
     "text": [
      "loss_g = 2.408091699338367, loss_d = 0.4291315346192091\n",
      "\n"
     ]
    },
    {
     "name": "stderr",
     "output_type": "stream",
     "text": [
      "Training for epoch 87: 100%|██████████| 469/469 [00:07<00:00, 64.93it/s]\n"
     ]
    },
    {
     "name": "stdout",
     "output_type": "stream",
     "text": [
      "loss_g = 2.4294688103035984, loss_d = 0.42252192846857584\n",
      "\n"
     ]
    },
    {
     "name": "stderr",
     "output_type": "stream",
     "text": [
      "Training for epoch 88: 100%|██████████| 469/469 [00:07<00:00, 65.86it/s]\n"
     ]
    },
    {
     "name": "stdout",
     "output_type": "stream",
     "text": [
      "loss_g = 2.4666730259728227, loss_d = 0.40238446516231596\n",
      "\n"
     ]
    },
    {
     "name": "stderr",
     "output_type": "stream",
     "text": [
      "Training for epoch 89: 100%|██████████| 469/469 [00:06<00:00, 68.24it/s]\n"
     ]
    },
    {
     "name": "stdout",
     "output_type": "stream",
     "text": [
      "loss_g = 2.4713928098352547, loss_d = 0.4212694646328942\n",
      "\n"
     ]
    },
    {
     "name": "stderr",
     "output_type": "stream",
     "text": [
      "Training for epoch 90: 100%|██████████| 469/469 [00:07<00:00, 65.08it/s]\n"
     ]
    },
    {
     "name": "stdout",
     "output_type": "stream",
     "text": [
      "loss_g = 2.431954880937552, loss_d = 0.38572176650930673\n",
      "\n"
     ]
    },
    {
     "name": "stderr",
     "output_type": "stream",
     "text": [
      "Training for epoch 91: 100%|██████████| 469/469 [00:06<00:00, 67.42it/s]\n"
     ]
    },
    {
     "name": "stdout",
     "output_type": "stream",
     "text": [
      "loss_g = 2.516999165726523, loss_d = 0.39418331661030775\n",
      "\n"
     ]
    },
    {
     "name": "stderr",
     "output_type": "stream",
     "text": [
      "Training for epoch 92: 100%|██████████| 469/469 [00:07<00:00, 63.33it/s]\n"
     ]
    },
    {
     "name": "stdout",
     "output_type": "stream",
     "text": [
      "loss_g = 2.489484732094993, loss_d = 0.40188374137903893\n",
      "\n"
     ]
    },
    {
     "name": "stderr",
     "output_type": "stream",
     "text": [
      "Training for epoch 93: 100%|██████████| 469/469 [00:07<00:00, 65.70it/s]\n"
     ]
    },
    {
     "name": "stdout",
     "output_type": "stream",
     "text": [
      "loss_g = 2.5227328543989067, loss_d = 0.39626879604835796\n",
      "\n"
     ]
    },
    {
     "name": "stderr",
     "output_type": "stream",
     "text": [
      "Training for epoch 94: 100%|██████████| 469/469 [00:07<00:00, 65.87it/s]\n"
     ]
    },
    {
     "name": "stdout",
     "output_type": "stream",
     "text": [
      "loss_g = 2.5219065393520217, loss_d = 0.4068085381554233\n",
      "\n"
     ]
    },
    {
     "name": "stderr",
     "output_type": "stream",
     "text": [
      "Training for epoch 95: 100%|██████████| 469/469 [00:07<00:00, 65.20it/s]\n"
     ]
    },
    {
     "name": "stdout",
     "output_type": "stream",
     "text": [
      "loss_g = 2.5277283740604024, loss_d = 0.40398335348591846\n",
      "\n"
     ]
    },
    {
     "name": "stderr",
     "output_type": "stream",
     "text": [
      "Training for epoch 96: 100%|██████████| 469/469 [00:07<00:00, 64.72it/s]\n"
     ]
    },
    {
     "name": "stdout",
     "output_type": "stream",
     "text": [
      "loss_g = 2.4559137733318868, loss_d = 0.404127296888166\n",
      "\n"
     ]
    },
    {
     "name": "stderr",
     "output_type": "stream",
     "text": [
      "Training for epoch 97: 100%|██████████| 469/469 [00:07<00:00, 61.65it/s]\n"
     ]
    },
    {
     "name": "stdout",
     "output_type": "stream",
     "text": [
      "loss_g = 2.488152611332062, loss_d = 0.3777510911289953\n",
      "\n"
     ]
    },
    {
     "name": "stderr",
     "output_type": "stream",
     "text": [
      "Training for epoch 98: 100%|██████████| 469/469 [00:07<00:00, 63.06it/s]\n"
     ]
    },
    {
     "name": "stdout",
     "output_type": "stream",
     "text": [
      "loss_g = 2.5171661354028263, loss_d = 0.3816251401335765\n",
      "\n"
     ]
    },
    {
     "name": "stderr",
     "output_type": "stream",
     "text": [
      "Training for epoch 99: 100%|██████████| 469/469 [00:07<00:00, 66.08it/s]\n"
     ]
    },
    {
     "name": "stdout",
     "output_type": "stream",
     "text": [
      "loss_g = 2.643547406563392, loss_d = 0.4156748795738587\n",
      "\n"
     ]
    },
    {
     "data": {
      "image/png": "[encoded data removed]",
      "text/plain": [
       "<Figure size 432x288 with 1 Axes>"
      ]
     },
     "metadata": {
      "needs_background": "light"
     },
     "output_type": "display_data"
    },
    {
     "data": {
      "image/png": "[encoded data removed]",
      "text/plain": [
       "<Figure size 1440x720 with 40 Axes>"
      ]
     },
     "metadata": {
      "needs_background": "light"
     },
     "output_type": "display_data"
    }
   ],
   "source": [
    "# Functions to save and load checkpoints\n",
    "\n",
    "# Enter the path on your shared drive where the checkpoint is to be saved\n",
    "## TODO ##\n",
    "# For example path_to_checkpoint = '/content/drive/Shareddrives/CS763Lab8/'\n",
    "path_to_checkpoint = './checkpoints'\n",
    "## TODO ##\n",
    "\n",
    "\n",
    "def save_checkpoint(e):\n",
    "    if not os.path.isdir(path_to_checkpoint):\n",
    "        os.mkdir(path_to_checkpoint)\n",
    "    torch.save({'e': e, 'gen': G.state_dict(), 'disc': D.state_dict(), 'optim_d': optimizer_d.state_dict(\n",
    "    ), 'optim_g': optimizer_g.state_dict()}, os.path.join(path_to_checkpoint, 'checkpoint_vanilla.pth'))\n",
    "\n",
    "\n",
    "def load_checkpoint():\n",
    "    if not os.path.isfile(os.path.join(path_to_checkpoint, 'checkpoint_vanilla.pth')):\n",
    "        return -1\n",
    "    dic = torch.load(os.path.join(\n",
    "        path_to_checkpoint, 'checkpoint_vanilla.pth'))\n",
    "    G.load_state_dict(dic['gen'])\n",
    "    D.load_state_dict(dic['disc'])\n",
    "    optimizer_d.load_state_dict(dic['optim_d'])\n",
    "    optimizer_g.load_state_dict(dic['optim_g'])\n",
    "    return dic['e']\n",
    "\n",
    "\n",
    "# The generate functions are defined here\n",
    "def generate(n):\n",
    "    ## TODO ##\n",
    "    fake_samples = G(torch.empty(n,100,1,1).normal_().to(device))\n",
    "    return fake_samples.detach().cpu().numpy()\n",
    "    ## TODO ##\n",
    "\n",
    "## TODO ##\n",
    "NUM_EPOCHS = 100\n",
    "## TODO ##\n",
    "losses_g = []\n",
    "losses_d = []\n",
    "\n",
    "# Resume training\n",
    "offset = load_checkpoint()\n",
    "if os.path.exists('images'):\n",
    "    if offset == -1:\n",
    "        os.system('rm -rf images')\n",
    "        os.mkdir('images')\n",
    "else:\n",
    "    os.mkdir('images')\n",
    "\n",
    "\n",
    "for e in range(NUM_EPOCHS):\n",
    "    if e <= offset:\n",
    "        continue\n",
    "    loss, loss_g, loss_d = train(e)\n",
    "    losses_g.append(loss_g)\n",
    "    losses_d.append(loss_d)\n",
    "    G.eval()\n",
    "    g_output = generate(1)[0]\n",
    "    G.train()\n",
    "    plt.imshow(g_output.reshape(28, 28), cmap='gray')\n",
    "    plt.savefig('./images/{}.png'.format(e))\n",
    "    print('loss_g = {}, loss_d = {}\\n'.format(loss_g, loss_d))\n",
    "    save_checkpoint(e)\n",
    "\n",
    "# Test script\n",
    "load_checkpoint()\n",
    "with torch.no_grad():\n",
    "    G.eval()\n",
    "    fake_images = generate(40)\n",
    "    fig, axs = plt.subplots(4, 10, sharey=True, figsize=(20, 10))\n",
    "    for i in range(40):\n",
    "        axs[i//10, i % 10].imshow(fake_images[i].reshape(28, 28), cmap='gray')\n",
    "    plt.suptitle('MNIST Generated Images')\n",
    "    plt.show()\n"
   ]
  }
 ],
 "metadata": {
  "kernelspec": {
   "display_name": "Python 3",
   "language": "python",
   "name": "python3"
  },
  "language_info": {
   "codemirror_mode": {
    "name": "ipython",
    "version": 3
   },
   "file_extension": ".py",
   "mimetype": "text/x-python",
   "name": "python",
   "nbconvert_exporter": "python",
   "pygments_lexer": "ipython3",
   "version": "3.8.5"
  }
 },
 "nbformat": 4,
 "nbformat_minor": 4
}
