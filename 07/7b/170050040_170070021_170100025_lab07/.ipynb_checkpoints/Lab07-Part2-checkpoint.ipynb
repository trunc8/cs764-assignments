{
 "cells": [
  {
   "cell_type": "code",
   "execution_count": 4,
   "metadata": {},
   "outputs": [],
   "source": [
    "import pandas as pd\n",
    "import numpy as np\n",
    "import matplotlib.pyplot as plt\n",
    "import torch\n",
    "from torch import nn\n",
    "import pickle"
   ]
  },
  {
   "cell_type": "code",
   "execution_count": 24,
   "metadata": {},
   "outputs": [],
   "source": [
    "class ResidualBlock(nn.Module):\n",
    "    def __init__(self, hidden_dim=1024, dropout=0.1):\n",
    "        super(ResidualBlock, self).__init__()\n",
    "        self.layer1 = nn.Sequential(nn.Linear(hidden_dim,hidden_dim),nn.BatchNorm1d(hidden_dim),nn.ReLU(),nn.Dropout(p=dropout))\n",
    "        self.layer2 = nn.Sequential(nn.Linear(hidden_dim,hidden_dim),nn.BatchNorm1d(hidden_dim),nn.ReLU(),nn.Dropout(p=dropout))\n",
    "        \n",
    "    def forward(self,x):\n",
    "        return x+self.layer2(self.layer1(x))\n",
    "\n",
    "class LiftModel(nn.Module):\n",
    "    def __init__(self,n_blocks=2, hidden_layer=1024, dropout=0.5, output_nodes=15*3):\n",
    "        super(LiftModel, self).__init__()\n",
    "        input_nodes = int(output_nodes*2/3)\n",
    "        self.input_map = nn.Linear(input_nodes,hidden_layer)\n",
    "        self.output_map = nn.Linear(hidden_layer,output_nodes)\n",
    "        self.blocks = []\n",
    "        for _ in range(n_blocks):\n",
    "            self.blocks.append(ResidualBlock(hidden_layer,dropout))\n",
    "        self.blocks = nn.ModuleList(self.blocks)\n",
    "        \n",
    "\n",
    "    def forward(self,poses):\n",
    "        poses = self.input_map(poses.view(poses.shape[0],-1))\n",
    "        for block in self.blocks:\n",
    "            poses = block(poses)\n",
    "        poses = self.output_map(poses).view(poses.shape[0],-1,3)\n",
    "        return poses\n",
    "    \n",
    "def cal_mpjpe(pose_1, pose_2, avg=True):\n",
    "    n_joints = pose_1.shape[1]\n",
    "    batch_size = pose_1.shape[0]\n",
    "    diff = pose_1-pose_2\n",
    "    diff_sq = diff ** 2\n",
    "    dist_per_joint = torch.sqrt(torch.sum(diff_sq, axis=2))\n",
    "    dist_per_sample = torch.mean(dist_per_joint, axis=1)\n",
    "    if avg is True:\n",
    "        dist_avg = torch.mean(dist_per_sample)\n",
    "    else:\n",
    "        dist_avg = dist_per_sample\n",
    "    return dist_avg\n",
    "\n",
    "class myDataset(torch.utils.data.Dataset):\n",
    "    def __init__(self,data_in,data_out):\n",
    "        self.inputs = data_in\n",
    "        self.outputs = data_out\n",
    "    def __getitem__(self,index):\n",
    "        return torch.FloatTensor(self.inputs[index]),torch.FloatTensor(self.outputs[index])\n",
    "    def __len__(self):\n",
    "        return self.inputs.shape[0]"
   ]
  },
  {
   "cell_type": "code",
   "execution_count": 40,
   "metadata": {},
   "outputs": [],
   "source": [
    "data_loc = '/mnt/infonas/data/pbansal/data_train.pkl'\n",
    "filepath = 'checkpoint.pt'\n",
    "#device = torch.device('cpu')\n",
    "device = torch.device('cuda:0')"
   ]
  },
  {
   "cell_type": "code",
   "execution_count": 41,
   "metadata": {},
   "outputs": [
    {
     "data": {
      "text/plain": [
       "dict_keys(['joint_2d_1', 'joint_3d', 'focal_len_1'])"
      ]
     },
     "execution_count": 41,
     "metadata": {},
     "output_type": "execute_result"
    }
   ],
   "source": [
    "with open(data_loc,'rb') as f:\n",
    "    data = pickle.load(f)\n",
    "data.keys()"
   ]
  },
  {
   "cell_type": "code",
   "execution_count": 31,
   "metadata": {
    "scrolled": true
   },
   "outputs": [
    {
     "name": "stdout",
     "output_type": "stream",
     "text": [
      "0 0.2975639031008748 0.1571552719918964\n",
      "1 0.14305624820565335 0.11897395307180027\n",
      "2 0.10510389363751461 0.09219664538795676\n",
      "3 0.07805002069464102 0.0745849408694318\n",
      "4 0.062106311553230695 0.06019662308011649\n",
      "5 0.0527672273980786 0.054805934413893295\n",
      "6 0.04793689165959595 0.05475523428793811\n",
      "7 0.047826721791117584 0.057555460241713444\n",
      "8 0.0456371691131035 0.049622117902134576\n",
      "9 0.04404619372732528 0.05526691143410992\n",
      "10 0.04315917183303966 0.049597945056668556\n",
      "11 0.044842184443787986 0.05755028354700011\n",
      "12 0.04218814576833644 0.05285088845105247\n",
      "13 0.04100618440722397 0.05198540308272637\n",
      "14 0.04098390006262392 0.04813467597790341\n",
      "15 0.03996868558102749 0.05883694193619511\n",
      "16 0.04058641006935219 0.04524278869878201\n",
      "17 0.03981883224832968 0.04747614097031552\n",
      "18 0.03872920301084073 0.04712681065020898\n",
      "19 0.038302235996983 0.06060045903337607\n",
      "20 0.03983037276942212 0.04462096821621771\n",
      "21 0.037407682137742156 0.049015948763723435\n",
      "22 0.03712907024652282 0.04557640906299218\n",
      "23 0.037710942577661846 0.04699271786547453\n",
      "24 0.038222630316803376 0.047417856269787666\n",
      "25 0.03933280638781568 0.04590833815877282\n",
      "26 0.03626885763045925 0.04399130678234926\n",
      "27 0.03547470080918356 0.04580881837459481\n",
      "28 0.036917086571602226 0.04669352987067996\n",
      "29 0.036360459704366646 0.04618638075853787\n",
      "30 0.03599761123262176 0.05279571106652612\n",
      "31 0.035363896305790975 0.045787997559087204\n",
      "32 0.03508439424965847 0.04465376206319006\n",
      "33 0.035707495664742586 0.04786503498467771\n",
      "34 0.035395286488473704 0.04615276540772295\n",
      "35 0.036613916118739175 0.0433693774243094\n",
      "36 0.03547163791891406 0.045954815852434314\n",
      "37 0.03517632723316437 0.043918901711687074\n",
      "38 0.03530614705366743 0.043285312935870346\n",
      "39 0.03408427332538768 0.04579058284754328\n",
      "40 0.03490689970848747 0.046227658968485665\n",
      "41 0.034455823454980265 0.045561866493927156\n",
      "42 0.03403830412220168 0.04314906404629113\n",
      "43 0.0337581916376663 0.046431750057218384\n",
      "44 0.035586266139650775 0.045675195799400596\n",
      "45 0.03365483298463286 0.0463661340254811\n",
      "46 0.03333366952785919 0.04319923657108612\n",
      "47 0.0332192619584062 0.04265250134420725\n",
      "48 0.03308918847232599 0.04514171373670007\n",
      "49 0.03303030071488901 0.04276353924672216\n"
     ]
    }
   ],
   "source": [
    "def run_epoch(epoch_no, data_in,data_out, model,device, optimiser, batch_size=256,split='train'):\n",
    "    train_set = myDataset(data_in,data_out)\n",
    "    train_loader = torch.utils.data.DataLoader(train_set,batch_size = batch_size,drop_last = False,shuffle=True)\n",
    "    total_loss,count = 0,0\n",
    "    for x,y in train_loader:\n",
    "        y_pred = model(x.to(device))\n",
    "        loss = cal_mpjpe(y_pred,y.to(device))\n",
    "        if (split=='train'):\n",
    "            optimiser.zero_grad()\n",
    "            loss.backward()\n",
    "            optimiser.step()\n",
    "        count += x.shape[0]\n",
    "        total_loss += float(loss.detach().cpu())*x.shape[0]\n",
    "    return float(total_loss/count)\n",
    "\n",
    "torch.backends.cudnn.benchmark = False\n",
    "torch.backends.cudnn.deterministic = True\n",
    "torch.manual_seed(1)\n",
    "torch.cuda.manual_seed(1)\n",
    "\n",
    "\n",
    "model = LiftModel(n_blocks=3).to(device)\n",
    "lr = 1e-3\n",
    "optim = torch.optim.Adam(model.parameters(),lr=lr)\n",
    "max_epoch = 50\n",
    "with open(data_loc,'rb') as f:\n",
    "    data = pickle.load(f)\n",
    "    \n",
    "num_examples = data['joint_2d_1'].shape[0]\n",
    "train_input = data['joint_2d_1'][:-int(num_examples/10)]\n",
    "train_output = data['joint_3d'][:-int(num_examples/10)]\n",
    "val_input = data['joint_2d_1'][-int(num_examples/10):]\n",
    "val_output = data['joint_3d'][-int(num_examples/10):]\n",
    "\n",
    "train_losses,val_losses = [],[]\n",
    "for epoch_no in range(max_epoch):\n",
    "    train_loss = run_epoch(epoch_no, train_input,train_output,model, device,optim, batch_size=64)\n",
    "    with torch.no_grad():\n",
    "        val_loss = run_epoch(epoch_no, val_input,val_output,model, device,optim, batch_size=64,split='val')\n",
    "    train_losses.append(train_loss)\n",
    "    val_losses.append(val_loss)\n",
    "    print (epoch_no,train_loss,val_loss)"
   ]
  },
  {
   "cell_type": "code",
   "execution_count": 28,
   "metadata": {},
   "outputs": [],
   "source": [
    "torch.save(model.state_dict(), filepath)"
   ]
  },
  {
   "cell_type": "code",
   "execution_count": 32,
   "metadata": {},
   "outputs": [],
   "source": [
    "block3val = val_losses\n",
    "block3train = train_losses\n",
    "# block2val = val_losses\n",
    "# block2train = train_losses"
   ]
  },
  {
   "cell_type": "code",
   "execution_count": 33,
   "metadata": {},
   "outputs": [
    {
     "data": {
      "text/plain": [
       "<matplotlib.legend.Legend at 0x7fb2bb072c70>"
      ]
     },
     "execution_count": 33,
     "metadata": {},
     "output_type": "execute_result"
    },
    {
     "data": {
      "image/png": "[encoded data removed]",
      "text/plain": [
       "<Figure size 432x288 with 1 Axes>"
      ]
     },
     "metadata": {
      "needs_background": "light"
     },
     "output_type": "display_data"
    }
   ],
   "source": [
    "plt.ylim(0,0.1)\n",
    "plt.plot(block2train)\n",
    "plt.plot(block2val)\n",
    "plt.plot(block3train)\n",
    "plt.plot(block3val)\n",
    "plt.legend(['Train-2Blocks','Val-2Blocks','Train-3Blocks','Val-3Blocks'])"
   ]
  }
 ],
 "metadata": {
  "kernelspec": {
   "display_name": "Python 3",
   "language": "python",
   "name": "python3"
  },
  "language_info": {
   "codemirror_mode": {
    "name": "ipython",
    "version": 3
   },
   "file_extension": ".py",
   "mimetype": "text/x-python",
   "name": "python",
   "nbconvert_exporter": "python",
   "pygments_lexer": "ipython3",
   "version": "3.8.5"
  }
 },
 "nbformat": 4,
 "nbformat_minor": 4
}
